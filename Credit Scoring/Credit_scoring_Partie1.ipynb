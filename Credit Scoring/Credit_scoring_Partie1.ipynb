{
 "cells": [
  {
   "cell_type": "code",
   "execution_count": 1,
   "metadata": {},
   "outputs": [],
   "source": [
    "import numpy as np \n",
    "np.set_printoptions(threshold=10000,suppress=True) \n",
    "import pandas as pd\n",
    "import warnings\n",
    "import matplotlib.pyplot as plt \n",
    "warnings.filterwarnings('ignore')"
   ]
  },
  {
   "cell_type": "code",
   "execution_count": 2,
   "metadata": {},
   "outputs": [
    {
     "data": {
      "text/html": [
       "<div>\n",
       "<style scoped>\n",
       "    .dataframe tbody tr th:only-of-type {\n",
       "        vertical-align: middle;\n",
       "    }\n",
       "\n",
       "    .dataframe tbody tr th {\n",
       "        vertical-align: top;\n",
       "    }\n",
       "\n",
       "    .dataframe thead th {\n",
       "        text-align: right;\n",
       "    }\n",
       "</style>\n",
       "<table border=\"1\" class=\"dataframe\">\n",
       "  <thead>\n",
       "    <tr style=\"text-align: right;\">\n",
       "      <th></th>\n",
       "      <th>Seniority</th>\n",
       "      <th>Home</th>\n",
       "      <th>Time</th>\n",
       "      <th>Age</th>\n",
       "      <th>Marital</th>\n",
       "      <th>Records</th>\n",
       "      <th>Job</th>\n",
       "      <th>Expenses</th>\n",
       "      <th>Income</th>\n",
       "      <th>Assets</th>\n",
       "      <th>Debt</th>\n",
       "      <th>Amount</th>\n",
       "      <th>Price</th>\n",
       "      <th>Status</th>\n",
       "    </tr>\n",
       "  </thead>\n",
       "  <tbody>\n",
       "    <tr>\n",
       "      <th>0</th>\n",
       "      <td>9.0</td>\n",
       "      <td>1.0</td>\n",
       "      <td>60.0</td>\n",
       "      <td>30.0</td>\n",
       "      <td>0.0</td>\n",
       "      <td>1.0</td>\n",
       "      <td>1.0</td>\n",
       "      <td>73.0</td>\n",
       "      <td>129.0</td>\n",
       "      <td>0.0</td>\n",
       "      <td>0.0</td>\n",
       "      <td>800.0</td>\n",
       "      <td>846.0</td>\n",
       "      <td>1</td>\n",
       "    </tr>\n",
       "    <tr>\n",
       "      <th>1</th>\n",
       "      <td>17.0</td>\n",
       "      <td>1.0</td>\n",
       "      <td>60.0</td>\n",
       "      <td>58.0</td>\n",
       "      <td>1.0</td>\n",
       "      <td>1.0</td>\n",
       "      <td>0.0</td>\n",
       "      <td>48.0</td>\n",
       "      <td>131.0</td>\n",
       "      <td>0.0</td>\n",
       "      <td>0.0</td>\n",
       "      <td>1000.0</td>\n",
       "      <td>1658.0</td>\n",
       "      <td>1</td>\n",
       "    </tr>\n",
       "    <tr>\n",
       "      <th>2</th>\n",
       "      <td>10.0</td>\n",
       "      <td>0.0</td>\n",
       "      <td>36.0</td>\n",
       "      <td>46.0</td>\n",
       "      <td>0.0</td>\n",
       "      <td>2.0</td>\n",
       "      <td>1.0</td>\n",
       "      <td>90.0</td>\n",
       "      <td>200.0</td>\n",
       "      <td>3000.0</td>\n",
       "      <td>0.0</td>\n",
       "      <td>2000.0</td>\n",
       "      <td>2985.0</td>\n",
       "      <td>0</td>\n",
       "    </tr>\n",
       "  </tbody>\n",
       "</table>\n",
       "</div>"
      ],
      "text/plain": [
       "   Seniority  Home  Time   Age  Marital  Records  Job  Expenses  Income  \\\n",
       "0        9.0   1.0  60.0  30.0      0.0      1.0  1.0      73.0   129.0   \n",
       "1       17.0   1.0  60.0  58.0      1.0      1.0  0.0      48.0   131.0   \n",
       "2       10.0   0.0  36.0  46.0      0.0      2.0  1.0      90.0   200.0   \n",
       "\n",
       "   Assets  Debt  Amount   Price  Status  \n",
       "0     0.0   0.0   800.0   846.0       1  \n",
       "1     0.0   0.0  1000.0  1658.0       1  \n",
       "2  3000.0   0.0  2000.0  2985.0       0  "
      ]
     },
     "execution_count": 2,
     "metadata": {},
     "output_type": "execute_result"
    }
   ],
   "source": [
    "credit=pd.read_csv('./credit_scoring.csv',sep=\";\",header=0)\n",
    "credit.head(3)"
   ]
  },
  {
   "cell_type": "code",
   "execution_count": 8,
   "metadata": {},
   "outputs": [],
   "source": [
    "X=credit.iloc[:,:13].values\n",
    "Y=credit.iloc[:,13].values\n"
   ]
  },
  {
   "cell_type": "code",
   "execution_count": 16,
   "metadata": {},
   "outputs": [
    {
     "name": "stdout",
     "output_type": "stream",
     "text": [
      "Bon Payeurs : 72.21, Mauvais Payeurs : 27.79\n"
     ]
    }
   ],
   "source": [
    "NBP=np.sum(Y==1)/len(Y)\n",
    "NBM=np.sum(Y==0)/len(Y)\n",
    "print('Bon Payeurs : {0:.2f}, Mauvais Payeurs : {1:.2f}'.format(NBP*100,NBM*100))"
   ]
  },
  {
   "cell_type": "code",
   "execution_count": 47,
   "metadata": {},
   "outputs": [],
   "source": [
    "from sklearn.model_selection import train_test_split\n",
    "from sklearn.tree import DecisionTreeClassifier\n",
    "from sklearn.neighbors import KNeighborsClassifier\n",
    "from sklearn.neural_network import MLPClassifier\n",
    "from sklearn.metrics import confusion_matrix,accuracy_score,precision_score\n",
    "from sklearn.preprocessing import StandardScaler\n",
    "from sklearn.decomposition import PCA"
   ]
  },
  {
   "cell_type": "code",
   "execution_count": 19,
   "metadata": {},
   "outputs": [],
   "source": [
    "Xtrain,Xtest,Ytrain,Ytest=train_test_split(X,Y,test_size=0.5,random_state=1)"
   ]
  },
  {
   "cell_type": "code",
   "execution_count": 44,
   "metadata": {},
   "outputs": [],
   "source": [
    "def classifieurs(Xtrain,Xtest,Ytrain,Ytest):\n",
    "    print('***********DT****************')\n",
    "    DT=DecisionTreeClassifier(criterion='gini',random_state=1)\n",
    "    DT.fit(Xtrain,Ytrain)\n",
    "    YDT=DT.predict(Xtest)\n",
    "\n",
    "    display(confusion_matrix(Ytest,YDT))\n",
    "    print('Accuracy {0:.2f}%'.format(accuracy_score(Ytest,YDT)*100))\n",
    "    print('Précision {0:.2f}%'.format(precision_score(Ytest,YDT)*100))\n",
    "\n",
    "    print('********KNN*****************')\n",
    "    KNN=KNeighborsClassifier(n_neighbors=5)\n",
    "    KNN.fit(Xtrain,Ytrain)\n",
    "    YKNN=KNN.predict(Xtest)\n",
    "\n",
    "    display(confusion_matrix(Ytest,YKNN))\n",
    "    print('Accuracy {0:.2f}%'.format(accuracy_score(Ytest,YKNN)*100))\n",
    "    print('Précision {0:.2f}%'.format(precision_score(Ytest,YKNN)*100))\n",
    "\n",
    "    print('********MLP*****************')\n",
    "    MLP=MLPClassifier(hidden_layer_sizes=(40,20),random_state=1)\n",
    "    MLP.fit(Xtrain,Ytrain)\n",
    "    YMLP=MLP.predict(Xtest)\n",
    "\n",
    "    display(confusion_matrix(Ytest,YMLP))\n",
    "    print('Accuracy {0:.2f}%'.format(accuracy_score(Ytest,YMLP)*100))\n",
    "    print('Précision {0:.2f}%'.format(precision_score(Ytest,YMLP)*100))"
   ]
  },
  {
   "cell_type": "code",
   "execution_count": 45,
   "metadata": {},
   "outputs": [
    {
     "name": "stdout",
     "output_type": "stream",
     "text": [
      "***********DT****************\n"
     ]
    },
    {
     "data": {
      "text/plain": [
       "array([[ 325,  279],\n",
       "       [ 318, 1266]])"
      ]
     },
     "metadata": {},
     "output_type": "display_data"
    },
    {
     "name": "stdout",
     "output_type": "stream",
     "text": [
      "Accuracy 72.71%\n",
      "Précision 81.94%\n",
      "********KNN*****************\n"
     ]
    },
    {
     "data": {
      "text/plain": [
       "array([[ 189,  415],\n",
       "       [ 187, 1397]])"
      ]
     },
     "metadata": {},
     "output_type": "display_data"
    },
    {
     "name": "stdout",
     "output_type": "stream",
     "text": [
      "Accuracy 72.49%\n",
      "Précision 77.10%\n",
      "********MLP*****************\n"
     ]
    },
    {
     "data": {
      "text/plain": [
       "array([[ 436,  168],\n",
       "       [ 532, 1052]])"
      ]
     },
     "metadata": {},
     "output_type": "display_data"
    },
    {
     "name": "stdout",
     "output_type": "stream",
     "text": [
      "Accuracy 68.01%\n",
      "Précision 86.23%\n"
     ]
    }
   ],
   "source": [
    "classifieurs(Xtrain,Xtest,Ytrain,Ytest)"
   ]
  },
  {
   "cell_type": "code",
   "execution_count": 42,
   "metadata": {},
   "outputs": [],
   "source": [
    "SS=StandardScaler()\n",
    "SS.fit(Xtrain)\n",
    "Xtrain_norm=SS.transform(Xtrain)\n",
    "Xtest_norm=SS.transform(Xtest)"
   ]
  },
  {
   "cell_type": "code",
   "execution_count": 46,
   "metadata": {},
   "outputs": [
    {
     "name": "stdout",
     "output_type": "stream",
     "text": [
      "***********DT****************\n"
     ]
    },
    {
     "data": {
      "text/plain": [
       "array([[ 322,  282],\n",
       "       [ 315, 1269]])"
      ]
     },
     "metadata": {},
     "output_type": "display_data"
    },
    {
     "name": "stdout",
     "output_type": "stream",
     "text": [
      "Accuracy 72.71%\n",
      "Précision 81.82%\n",
      "********KNN*****************\n"
     ]
    },
    {
     "data": {
      "text/plain": [
       "array([[ 286,  318],\n",
       "       [ 223, 1361]])"
      ]
     },
     "metadata": {},
     "output_type": "display_data"
    },
    {
     "name": "stdout",
     "output_type": "stream",
     "text": [
      "Accuracy 75.27%\n",
      "Précision 81.06%\n",
      "********MLP*****************\n"
     ]
    },
    {
     "data": {
      "text/plain": [
       "array([[ 342,  262],\n",
       "       [ 227, 1357]])"
      ]
     },
     "metadata": {},
     "output_type": "display_data"
    },
    {
     "name": "stdout",
     "output_type": "stream",
     "text": [
      "Accuracy 77.65%\n",
      "Précision 83.82%\n"
     ]
    }
   ],
   "source": [
    "classifieurs(Xtrain_norm,Xtest_norm,Ytrain,Ytest)"
   ]
  },
  {
   "cell_type": "code",
   "execution_count": 48,
   "metadata": {},
   "outputs": [
    {
     "name": "stdout",
     "output_type": "stream",
     "text": [
      "***********DT****************\n"
     ]
    },
    {
     "data": {
      "text/plain": [
       "array([[ 351,  253],\n",
       "       [ 324, 1260]])"
      ]
     },
     "metadata": {},
     "output_type": "display_data"
    },
    {
     "name": "stdout",
     "output_type": "stream",
     "text": [
      "Accuracy 73.63%\n",
      "Précision 83.28%\n",
      "********KNN*****************\n"
     ]
    },
    {
     "data": {
      "text/plain": [
       "array([[ 283,  321],\n",
       "       [ 212, 1372]])"
      ]
     },
     "metadata": {},
     "output_type": "display_data"
    },
    {
     "name": "stdout",
     "output_type": "stream",
     "text": [
      "Accuracy 75.64%\n",
      "Précision 81.04%\n",
      "********MLP*****************\n"
     ]
    },
    {
     "data": {
      "text/plain": [
       "array([[ 318,  286],\n",
       "       [ 217, 1367]])"
      ]
     },
     "metadata": {},
     "output_type": "display_data"
    },
    {
     "name": "stdout",
     "output_type": "stream",
     "text": [
      "Accuracy 77.01%\n",
      "Précision 82.70%\n"
     ]
    }
   ],
   "source": [
    "pca=PCA(n_components=3)\n",
    "pca.fit(Xtrain_norm)\n",
    "Xtrain_pca=pca.transform(Xtrain_norm)\n",
    "Xtest_pca=pca.transform(Xtest_norm)\n",
    "\n",
    "Xtrain_pca=np.concatenate((Xtrain_norm,Xtrain_pca),axis=1)\n",
    "Xtest_pca=np.concatenate((Xtest_norm,Xtest_pca),axis=1)\n",
    "\n",
    "classifieurs(Xtrain_pca,Xtest_pca,Ytrain,Ytest)"
   ]
  },
  {
   "cell_type": "markdown",
   "metadata": {},
   "source": [
    "## Importance des variables"
   ]
  },
  {
   "cell_type": "code",
   "execution_count": 49,
   "metadata": {},
   "outputs": [
    {
     "name": "stdout",
     "output_type": "stream",
     "text": [
      "Index(['Income', 'Seniority', 'Price', 'Amount', 'Age', 'Assets', 'Expenses',\n",
      "       'Records', 'Time', 'Job', 'Debt', 'Home', 'Marital'],\n",
      "      dtype='object')\n"
     ]
    },
    {
     "data": {
      "image/png": "[encoded data removed]",
      "text/plain": [
       "<Figure size 432x288 with 1 Axes>"
      ]
     },
     "metadata": {
      "needs_background": "light"
     },
     "output_type": "display_data"
    }
   ],
   "source": [
    "from sklearn.ensemble import RandomForestClassifier\n",
    "clf = RandomForestClassifier(n_estimators=500,random_state=1)\n",
    "clf.fit(Xtrain_norm, Ytrain)\n",
    "importances=clf.feature_importances_\n",
    "std = np.std([tree.feature_importances_ for tree in clf.estimators_],axis=0) \n",
    "sorted_idx = np.argsort(importances)[::-1]\n",
    "\n",
    "\n",
    "features =credit.columns[:-1] \n",
    "print(features[sorted_idx])\n",
    "padding = np.arange(Xtrain_norm.size/len(Xtrain_norm)) + 0.5\n",
    "plt.barh(padding, importances[sorted_idx],xerr=std[sorted_idx], align='center') \n",
    "plt.yticks(padding, features[sorted_idx])\n",
    "plt.xlabel(\"Relative Importance\")\n",
    "plt.title(\"Variable Importance\") \n",
    "plt.show()"
   ]
  },
  {
   "cell_type": "code",
   "execution_count": 68,
   "metadata": {},
   "outputs": [
    {
     "data": {
      "image/png": "[encoded data removed]",
      "text/plain": [
       "<Figure size 432x288 with 1 Axes>"
      ]
     },
     "metadata": {
      "needs_background": "light"
     },
     "output_type": "display_data"
    }
   ],
   "source": [
    "MLP=MLPClassifier('activation 'tanh', 'hidden_layer_sizes': (40, 10), 'solver': 'sgd'random_state=1)\n",
    "scores=np.zeros(Xtrain_norm.shape[1]+1)\n",
    "for f in np.arange(0, Xtrain_norm.shape[1]+1):\n",
    "    X1_f = Xtrain_norm[:,sorted_idx[:f+1]]\n",
    "    X2_f = Xtest_norm[:,sorted_idx[:f+1]] \n",
    "    MLP.fit(X1_f,Ytrain)\n",
    "    YMLP=MLP.predict(X2_f) \n",
    "    scores[f]=np.round(accuracy_score(Ytest,YMLP),3)\n",
    "\n",
    "plt.plot(scores)\n",
    "plt.xlabel(\"Nombre de Variables\")\n",
    "plt.ylabel(\"Accuracy\")\n",
    "plt.title(\"Evolution de l'accuracy en fonction des variables\") \n",
    "plt.show()"
   ]
  },
  {
   "cell_type": "markdown",
   "metadata": {},
   "source": [
    "## Tuning des paramètres du MLP"
   ]
  },
  {
   "cell_type": "code",
   "execution_count": 51,
   "metadata": {},
   "outputs": [],
   "source": [
    "from sklearn.model_selection import GridSearchCV"
   ]
  },
  {
   "cell_type": "code",
   "execution_count": 52,
   "metadata": {},
   "outputs": [
    {
     "data": {
      "text/plain": [
       "GridSearchCV(cv=10, error_score=nan,\n",
       "             estimator=MLPClassifier(activation='relu', alpha=0.0001,\n",
       "                                     batch_size='auto', beta_1=0.9,\n",
       "                                     beta_2=0.999, early_stopping=False,\n",
       "                                     epsilon=1e-08, hidden_layer_sizes=(100,),\n",
       "                                     learning_rate='constant',\n",
       "                                     learning_rate_init=0.001, max_fun=15000,\n",
       "                                     max_iter=200, momentum=0.9,\n",
       "                                     n_iter_no_change=10,\n",
       "                                     nesterovs_momentum=True, power_t=0.5,\n",
       "                                     random_state=1, shuffle=True,\n",
       "                                     solver='adam', tol=0.0001,\n",
       "                                     validation_fraction=0.1, verbose=False,\n",
       "                                     warm_start=False),\n",
       "             iid='deprecated', n_jobs=None,\n",
       "             param_grid={'activation': ('identity', 'logistic', 'tanh', 'relu'),\n",
       "                         'hidden_layer_sizes': ((40, 20), (40, 10)),\n",
       "                         'solver': ('lbfgs', 'sgd', 'adam')},\n",
       "             pre_dispatch='2*n_jobs', refit=True, return_train_score=False,\n",
       "             scoring='accuracy', verbose=0)"
      ]
     },
     "execution_count": 52,
     "metadata": {},
     "output_type": "execute_result"
    }
   ],
   "source": [
    "parameters = {'activation':('identity', 'logistic', 'tanh', 'relu'),\n",
    "              'solver' : ('lbfgs', 'sgd', 'adam'),\n",
    "             'hidden_layer_sizes' : ((40,20),(40,10))\n",
    "             }\n",
    "MLP=MLPClassifier(random_state=1)\n",
    "Grille = GridSearchCV(MLP, parameters,cv=10,scoring='accuracy')\n",
    "Grille.fit(Xtrain_norm,Ytrain)\n",
    "#Grille.fit(Xtrain_norm[:,sorted_idx[:9]],Ytrain)"
   ]
  },
  {
   "cell_type": "code",
   "execution_count": 78,
   "metadata": {},
   "outputs": [
    {
     "name": "stdout",
     "output_type": "stream",
     "text": [
      "{'activation': 'tanh', 'hidden_layer_sizes': (40, 10), 'solver': 'sgd'}\n",
      "Accuracy 79.30%\n"
     ]
    }
   ],
   "source": [
    "print(Grille.best_params_)\n",
    "MLP=Grille.best_estimator_\n",
    "MLP.fit(Xtrain_norm,Ytrain)\n",
    "YMLP=MLP.predict(Xtest_norm)\n",
    "print('Accuracy {0:.2f}%'.format(accuracy_score(Ytest,YMLP)*100))"
   ]
  },
  {
   "cell_type": "code",
   "execution_count": 79,
   "metadata": {},
   "outputs": [
    {
     "data": {
      "image/png": "[encoded data removed]",
      "text/plain": [
       "<Figure size 432x288 with 1 Axes>"
      ]
     },
     "metadata": {
      "needs_background": "light"
     },
     "output_type": "display_data"
    }
   ],
   "source": [
    "MLP=Grille.best_estimator_\n",
    "scores=np.zeros(Xtrain_norm.shape[1]+1)\n",
    "for f in np.arange(0, Xtrain_norm.shape[1]+1):\n",
    "    X1_f = Xtrain_norm[:,sorted_idx[:f+1]]\n",
    "    X2_f = Xtest_norm[:,sorted_idx[:f+1]] \n",
    "    MLP.fit(X1_f,Ytrain)\n",
    "    YMLP=MLP.predict(X2_f) \n",
    "    scores[f]=np.round(accuracy_score(Ytest,YMLP),3)\n",
    "\n",
    "plt.plot(scores)\n",
    "plt.xlabel(\"Nombre de Variables\")\n",
    "plt.ylabel(\"Accuracy\")\n",
    "plt.title(\"Evolution de l'accuracy en fonction des variables\") \n",
    "plt.show()"
   ]
  },
  {
   "cell_type": "code",
   "execution_count": null,
   "metadata": {},
   "outputs": [],
   "source": [
    "('FU',FeatureUnion([('ss',StandardScaler()),(\"pca\", PCA(n_components=3))])),"
   ]
  },
  {
   "cell_type": "markdown",
   "metadata": {},
   "source": [
    "## Création de pipeline"
   ]
  },
  {
   "cell_type": "code",
   "execution_count": 83,
   "metadata": {},
   "outputs": [],
   "source": [
    "from sklearn.pipeline import Pipeline\n",
    "import pickle"
   ]
  },
  {
   "cell_type": "code",
   "execution_count": 84,
   "metadata": {},
   "outputs": [],
   "source": [
    "P = Pipeline([('SS',StandardScaler()),\n",
    "                ('classifieur',MLPClassifier(activation='tanh',solver='sgd',\n",
    "                    hidden_layer_sizes=(40,10),random_state=1))\n",
    "                    ])\n",
    "P.fit(X,Y)\n",
    "\n",
    "pickle.dump(P,open('credit_cla.pkl','wb'))"
   ]
  },
  {
   "cell_type": "markdown",
   "metadata": {},
   "source": [
    "## Comparaison de plusieurs classifieurs\n"
   ]
  },
  {
   "cell_type": "code",
   "execution_count": 95,
   "metadata": {},
   "outputs": [],
   "source": [
    "from sklearn.neighbors import KNeighborsClassifier\n",
    "from sklearn.ensemble import RandomForestClassifier,BaggingClassifier\n",
    "from sklearn.model_selection import KFold,cross_val_score\n",
    "import time"
   ]
  },
  {
   "cell_type": "code",
   "execution_count": 88,
   "metadata": {},
   "outputs": [],
   "source": [
    "clfs = {\n",
    "    'RF': RandomForestClassifier(n_estimators=100, random_state=1), \n",
    "    'BAG': BaggingClassifier(base_estimator=DecisionTreeClassifier(random_state=1),n_estimators=100,random_state=1),\n",
    "    'ADA': AdaBoostClassifier(n_estimators=100,random_state=1),\n",
    "    'ET': ExtraTreesClassifier(n_estimators=100,random_state=1),\n",
    "    'KNN': KNeighborsClassifier(n_neighbors=5),\n",
    "    'CART': DecisionTreeClassifier(criterion='gini',random_state=1),\n",
    "    'ID3': DecisionTreeClassifier(criterion='entropy',random_state=1),\n",
    "    'Stumb': DecisionTreeClassifier(criterion='gini',max_depth=1,random_state=1),\n",
    "    'MLP': MLPClassifier(hidden_layer_sizes=(20,10),random_state=1)\n",
    "\n",
    "\n",
    "}"
   ]
  },
  {
   "cell_type": "code",
   "execution_count": 91,
   "metadata": {},
   "outputs": [],
   "source": [
    "def run_classifieurs(X,Y):\n",
    "    kf = KFold(n_splits=10, shuffle=True, random_state=1) \n",
    "    for i in clfs:\n",
    "        clf = clfs[i]\n",
    "        debut=time.time()\n",
    "        cv_acc = cross_val_score(clf, X, Y, cv=kf,scoring='accuracy')\n",
    "        fin=time.time()\n",
    "        print(\"Accuracy for {0} is: {1:.3f} +/- {2:.3f} en {3:.3f}s\".format(i,\n",
    "                                                                            np.mean(cv_acc),\n",
    "                                                                            np.std(cv_acc),fin-debut))\n"
   ]
  },
  {
   "cell_type": "code",
   "execution_count": 92,
   "metadata": {},
   "outputs": [
    {
     "name": "stdout",
     "output_type": "stream",
     "text": [
      "Accuracy for RF is: 0.785 +/- 0.014 en 3.361s\n",
      "Accuracy for KNN is: 0.720 +/- 0.022 en 0.137s\n"
     ]
    }
   ],
   "source": [
    "run_classifieurs(X,Y)"
   ]
  }
 ],
 "metadata": {
  "kernelspec": {
   "display_name": "Python 3",
   "language": "python",
   "name": "python3"
  },
  "language_info": {
   "codemirror_mode": {
    "name": "ipython",
    "version": 3
   },
   "file_extension": ".py",
   "mimetype": "text/x-python",
   "name": "python",
   "nbconvert_exporter": "python",
   "pygments_lexer": "ipython3",
   "version": "3.7.10"
  }
 },
 "nbformat": 4,
 "nbformat_minor": 2
}
